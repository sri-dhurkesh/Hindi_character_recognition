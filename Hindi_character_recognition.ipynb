{
  "nbformat": 4,
  "nbformat_minor": 0,
  "metadata": {
    "colab": {
      "name": "Hindi_character_recognition.ipynb",
      "provenance": [],
      "collapsed_sections": [],
      "authorship_tag": "ABX9TyNZq7QIYnMmAi1mMn6XFxvN",
      "include_colab_link": true
    },
    "kernelspec": {
      "name": "python3",
      "display_name": "Python 3"
    },
    "language_info": {
      "name": "python"
    }
  },
  "cells": [
    {
      "cell_type": "markdown",
      "metadata": {
        "id": "view-in-github",
        "colab_type": "text"
      },
      "source": [
        "<a href=\"https://colab.research.google.com/github/sri-dhurkesh/Hindi_character_recognition/blob/main/Hindi_character_recognition.ipynb\" target=\"_parent\"><img src=\"https://colab.research.google.com/assets/colab-badge.svg\" alt=\"Open In Colab\"/></a>"
      ]
    },
    {
      "cell_type": "markdown",
      "metadata": {
        "id": "QoCR48hwaPk_"
      },
      "source": [
        "### **Cloning the github repository**"
      ]
    },
    {
      "cell_type": "code",
      "metadata": {
        "colab": {
          "base_uri": "https://localhost:8080/"
        },
        "id": "nG183mFHaCrq",
        "outputId": "217f2199-def2-49eb-f98f-fe5baf568b6c"
      },
      "source": [
        "!git clone https://github.com/sri-dhurkesh/Hindi_character_recognition.git"
      ],
      "execution_count": 4,
      "outputs": [
        {
          "output_type": "stream",
          "name": "stdout",
          "text": [
            "Cloning into 'Hindi_character_recognition'...\n",
            "remote: Enumerating objects: 11, done.\u001b[K\n",
            "remote: Counting objects: 100% (11/11), done.\u001b[K\n",
            "remote: Compressing objects: 100% (10/10), done.\u001b[K\n",
            "remote: Total 11 (delta 0), reused 5 (delta 0), pack-reused 0\u001b[K\n",
            "Unpacking objects: 100% (11/11), done.\n"
          ]
        }
      ]
    },
    {
      "cell_type": "markdown",
      "metadata": {
        "id": "-9fGmDcxqg0y"
      },
      "source": [
        "### **Import Libraries**"
      ]
    },
    {
      "cell_type": "code",
      "metadata": {
        "id": "upQmK2CuqgQa"
      },
      "source": [
        "import os"
      ],
      "execution_count": 6,
      "outputs": []
    },
    {
      "cell_type": "code",
      "metadata": {
        "colab": {
          "base_uri": "https://localhost:8080/"
        },
        "id": "iNXHA9HbYlDB",
        "outputId": "89fc50b6-89ff-4995-98f0-1a948321cba4"
      },
      "source": [
        "from zipfile import ZipFile\n",
        "ZipFile(\"/content/Hindi_character_recognition/data/training.zip\").extractall(\"/content/\")\n",
        "ZipFile(\"/content/Hindi_character_recognition/data/test.zip\").extractall(\"/content/\")\n",
        "print('Zip file is extracted')"
      ],
      "execution_count": 26,
      "outputs": [
        {
          "output_type": "stream",
          "name": "stdout",
          "text": [
            "Zip file is extracted\n"
          ]
        }
      ]
    },
    {
      "cell_type": "code",
      "metadata": {
        "colab": {
          "base_uri": "https://localhost:8080/"
        },
        "id": "ZbmwSkXTZefm",
        "outputId": "e2c14cd6-4d88-4e72-849f-45fa27c83fad"
      },
      "source": [
        "train_data_0=os.listdir('/content/training/background/')\n",
        "train_data_1=os.listdir('/content/training/hi/')\n",
        "test_data=os.listdir('/content/test/')\n",
        "total=len(train_data_0)+len(train_data_1)\n",
        "print(f'bg: {len(train_data_0)}, {round((len(train_data_0)/total)*100)}% \\ntruth: {len(train_data_1)}, {round((len(train_data_1)/total)*100)}%\\n---------------------------\\nTest Data: {len(test_data)}')"
      ],
      "execution_count": 25,
      "outputs": [
        {
          "output_type": "stream",
          "name": "stdout",
          "text": [
            "bg: 4450, 76% \n",
            "truth: 1425, 24%\n",
            "---------------------------\n",
            "Test Data: 98\n"
          ]
        }
      ]
    },
    {
      "cell_type": "code",
      "metadata": {
        "id": "DJ1j6pjVte6i"
      },
      "source": [
        "for i in train_data_0:\n",
        "  "
      ],
      "execution_count": null,
      "outputs": []
    }
  ]
}