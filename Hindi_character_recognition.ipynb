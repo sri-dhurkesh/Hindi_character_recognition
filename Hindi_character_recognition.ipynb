{
  "nbformat": 4,
  "nbformat_minor": 0,
  "metadata": {
    "colab": {
      "name": "Hindi_character_recognition.ipynb",
      "provenance": [],
      "collapsed_sections": [],
      "toc_visible": true,
      "authorship_tag": "ABX9TyMAwc4KCU15rZSC0AXykz4P",
      "include_colab_link": true
    },
    "kernelspec": {
      "name": "python3",
      "display_name": "Python 3"
    },
    "language_info": {
      "name": "python"
    },
    "accelerator": "GPU"
  },
  "cells": [
    {
      "cell_type": "markdown",
      "metadata": {
        "id": "view-in-github",
        "colab_type": "text"
      },
      "source": [
        "<a href=\"https://colab.research.google.com/github/sri-dhurkesh/Hindi_character_recognition/blob/main/Hindi_character_recognition.ipynb\" target=\"_parent\"><img src=\"https://colab.research.google.com/assets/colab-badge.svg\" alt=\"Open In Colab\"/></a>"
      ]
    },
    {
      "cell_type": "markdown",
      "metadata": {
        "id": "QoCR48hwaPk_"
      },
      "source": [
        "### **Cloning the github repository**"
      ]
    },
    {
      "cell_type": "code",
      "metadata": {
        "colab": {
          "base_uri": "https://localhost:8080/"
        },
        "id": "nG183mFHaCrq",
        "outputId": "a2551ef6-0f02-4ca8-bb22-a3c6ae32def8"
      },
      "source": [
        "!git clone https://github.com/sri-dhurkesh/Hindi_character_recognition.git"
      ],
      "execution_count": 2,
      "outputs": [
        {
          "output_type": "stream",
          "name": "stdout",
          "text": [
            "fatal: destination path 'Hindi_character_recognition' already exists and is not an empty directory.\n"
          ]
        }
      ]
    },
    {
      "cell_type": "markdown",
      "metadata": {
        "id": "-9fGmDcxqg0y"
      },
      "source": [
        "### **Import Libraries**"
      ]
    },
    {
      "cell_type": "code",
      "metadata": {
        "id": "upQmK2CuqgQa"
      },
      "source": [
        "import os\n",
        "from sklearn.utils import shuffle\n",
        "import sklearn.model_selection as sk\n",
        "import cv2\n",
        "import numpy as np\n",
        "np.random.seed(0)"
      ],
      "execution_count": 44,
      "outputs": []
    },
    {
      "cell_type": "code",
      "metadata": {
        "colab": {
          "base_uri": "https://localhost:8080/"
        },
        "id": "iNXHA9HbYlDB",
        "outputId": "38ed27d9-35e6-416b-b654-1ad1e778f7f2"
      },
      "source": [
        "from zipfile import ZipFile\n",
        "ZipFile(\"/content/Hindi_character_recognition/data/training.zip\").extractall(\"/content/\")\n",
        "ZipFile(\"/content/Hindi_character_recognition/data/test.zip\").extractall(\"/content/\")\n",
        "print('Zip file is extracted')"
      ],
      "execution_count": 4,
      "outputs": [
        {
          "output_type": "stream",
          "name": "stdout",
          "text": [
            "Zip file is extracted\n"
          ]
        }
      ]
    },
    {
      "cell_type": "code",
      "metadata": {
        "colab": {
          "base_uri": "https://localhost:8080/"
        },
        "id": "ZbmwSkXTZefm",
        "outputId": "0d774033-15d2-42fc-e094-8893e2a8a4db"
      },
      "source": [
        "train_data_0=os.listdir('/content/training/background/')\n",
        "train_data_1=os.listdir('/content/training/hi/')\n",
        "test_data=os.listdir('/content/test/')\n",
        "total=len(train_data_0)+len(train_data_1)\n",
        "print(f'bg: {len(train_data_0)}, {round((len(train_data_0)/total)*100)}% \\ntruth: {len(train_data_1)}, {round((len(train_data_1)/total)*100)}%\\n---------------------------\\nTest Data: {len(test_data)}')"
      ],
      "execution_count": 5,
      "outputs": [
        {
          "output_type": "stream",
          "name": "stdout",
          "text": [
            "bg: 4450, 76% \n",
            "truth: 1425, 24%\n",
            "---------------------------\n",
            "Test Data: 98\n"
          ]
        }
      ]
    },
    {
      "cell_type": "code",
      "metadata": {
        "id": "DJ1j6pjVte6i"
      },
      "source": [
        "# Read the path and target variable and store it in the list.\n",
        "x=[]\n",
        "y=[]\n",
        "for i in train_data_0:\n",
        "  x.append('/content/training/background/'+ i)\n",
        "  y.append(0)\n",
        "for j in train_data_1:\n",
        "  x.append('/content/training/hi/'+j)\n",
        "  y.append(1)"
      ],
      "execution_count": 35,
      "outputs": []
    },
    {
      "cell_type": "code",
      "metadata": {
        "id": "9S5aNDkayaLn"
      },
      "source": [
        "# shuffle the data.\n",
        "xn,yn=shuffle(np.array(x),np.array(y))\n",
        "xn=xn.tolist()\n",
        "yn=yn.tolist()"
      ],
      "execution_count": 38,
      "outputs": []
    },
    {
      "cell_type": "code",
      "metadata": {
        "id": "cLW9-O_dyvV7",
        "outputId": "4fcb71a8-224f-44c8-cc28-314bccb706b0",
        "colab": {
          "base_uri": "https://localhost:8080/"
        }
      },
      "source": [
        "# spilitting the data 70% training data and 30% testing data.\n",
        "train_x, val_x, train_y, val_y = sk.train_test_split(xn,yn,test_size=0.3, random_state=42)\n",
        "print('Training data:', len(train_x) )\n",
        "print('Training Label:', len(train_y))\n",
        "print('Validation Data:',len(val_x))\n",
        "print('Validation Label:', len(val_y))"
      ],
      "execution_count": 43,
      "outputs": [
        {
          "output_type": "stream",
          "name": "stdout",
          "text": [
            "Training data: 4112\n",
            "Training Label: 4112\n",
            "Validation Data: 1763\n",
            "Validation Label: 1763\n"
          ]
        }
      ]
    },
    {
      "cell_type": "code",
      "metadata": {
        "id": "R5P1XC9x2py5"
      },
      "source": [
        ""
      ],
      "execution_count": null,
      "outputs": []
    }
  ]
}